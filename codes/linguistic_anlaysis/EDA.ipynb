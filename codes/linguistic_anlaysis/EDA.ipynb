{
 "cells": [
  {
   "cell_type": "code",
   "execution_count": 1,
   "metadata": {},
   "outputs": [],
   "source": [
    "import pandas as pd"
   ]
  },
  {
   "cell_type": "code",
   "execution_count": 2,
   "metadata": {},
   "outputs": [],
   "source": [
    "a = pd.read_csv('adhd_origin.csv')\n",
    "b = pd.read_csv('bipolar_origin.csv')\n",
    "d = pd.read_csv('depression_origin.csv')\n",
    "an = pd.read_csv('anxiety_origin.csv')\n",
    "s = pd.read_csv('schizo_origin.csv')\n",
    "n = pd.read_csv('non_mh_origin.csv')"
   ]
  },
  {
   "cell_type": "code",
   "execution_count": 4,
   "metadata": {},
   "outputs": [
    {
     "name": "stdout",
     "output_type": "stream",
     "text": [
      "adhd : 48147\n",
      "bipolar: 65460\n",
      "depression : 157213\n",
      "anxiety : 40158\n",
      "schizo : 20614\n",
      "nonMH : 425341\n",
      "\n",
      " MH: 756933\n"
     ]
    }
   ],
   "source": [
    "print('adhd : ' + str(len(a)))\n",
    "print('bipolar: ' + str(len(b)))\n",
    "print('depression : ' + str(len(d)))\n",
    "print('anxiety : ' + str(len(an)))\n",
    "print('schizo : ' + str(len(s)))\n",
    "print('nonMH : ' + str(len(n)))\n",
    "print('\\n MH: '+ str(len(n)+len(a)+len(b)+len(an)+len(s)+len(d)))"
   ]
  },
  {
   "cell_type": "code",
   "execution_count": null,
   "metadata": {},
   "outputs": [],
   "source": [
    "65460+ 157213+40158+20614+425341"
   ]
  },
  {
   "cell_type": "code",
   "execution_count": null,
   "metadata": {},
   "outputs": [],
   "source": []
  }
 ],
 "metadata": {
  "kernelspec": {
   "display_name": "Python 3",
   "language": "python",
   "name": "python3"
  },
  "language_info": {
   "codemirror_mode": {
    "name": "ipython",
    "version": 3
   },
   "file_extension": ".py",
   "mimetype": "text/x-python",
   "name": "python",
   "nbconvert_exporter": "python",
   "pygments_lexer": "ipython3",
   "version": "3.7.6"
  }
 },
 "nbformat": 4,
 "nbformat_minor": 4
}
