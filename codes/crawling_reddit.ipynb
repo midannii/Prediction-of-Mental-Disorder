{
 "cells": [
  {
   "cell_type": "markdown",
   "metadata": {},
   "source": [
    "## [PushShiftAPI](https://github.com/pushshift/api) 로 `reddit`의 `subreddit`을 [크롤링](https://www.reddit.com/r/pushshift/comments/bcxguf/new_to_pushshift_read_this_faq/)해보자"
   ]
  },
  {
   "cell_type": "code",
   "execution_count": 5,
   "metadata": {
    "collapsed": true,
    "jupyter": {
     "outputs_hidden": true
    }
   },
   "outputs": [
    {
     "name": "stdout",
     "output_type": "stream",
     "text": [
      "Collecting psaw\n",
      "  Downloading psaw-0.0.12-py3-none-any.whl (15 kB)\n",
      "Requirement already satisfied: requests in /opt/anaconda3/lib/python3.7/site-packages (from psaw) (2.22.0)\n",
      "Requirement already satisfied: Click in /opt/anaconda3/lib/python3.7/site-packages (from psaw) (7.0)\n",
      "Requirement already satisfied: urllib3!=1.25.0,!=1.25.1,<1.26,>=1.21.1 in /opt/anaconda3/lib/python3.7/site-packages (from requests->psaw) (1.25.8)\n",
      "Requirement already satisfied: certifi>=2017.4.17 in /opt/anaconda3/lib/python3.7/site-packages (from requests->psaw) (2019.11.28)\n",
      "Requirement already satisfied: chardet<3.1.0,>=3.0.2 in /opt/anaconda3/lib/python3.7/site-packages (from requests->psaw) (3.0.4)\n",
      "Requirement already satisfied: idna<2.9,>=2.5 in /opt/anaconda3/lib/python3.7/site-packages (from requests->psaw) (2.8)\n",
      "Installing collected packages: psaw\n",
      "Successfully installed psaw-0.0.12\n"
     ]
    }
   ],
   "source": [
    "# psaw 다운받기\n",
    "## https://github.com/dmarx/psaw\n",
    "!pip install psaw"
   ]
  },
  {
   "cell_type": "code",
   "execution_count": 3,
   "metadata": {},
   "outputs": [],
   "source": [
    "import psaw\n",
    "from psaw import PushshiftAPI"
   ]
  },
  {
   "cell_type": "code",
   "execution_count": 4,
   "metadata": {},
   "outputs": [],
   "source": [
    "api = PushshiftAPI()"
   ]
  },
  {
   "cell_type": "code",
   "execution_count": 5,
   "metadata": {},
   "outputs": [],
   "source": [
    "import pandas as pd\n",
    "import datetime as dt"
   ]
  },
  {
   "cell_type": "code",
   "execution_count": 6,
   "metadata": {},
   "outputs": [],
   "source": [
    "import time"
   ]
  },
  {
   "cell_type": "markdown",
   "metadata": {},
   "source": [
    "### 5년간의 data 수집: 2015-09-23 ~ 2020-09-23"
   ]
  },
  {
   "cell_type": "code",
   "execution_count": 8,
   "metadata": {},
   "outputs": [
    {
     "name": "stdout",
     "output_type": "stream",
     "text": [
      "4.73862099647522\n"
     ]
    }
   ],
   "source": [
    "# with time check !\n",
    "start = time.time()\n",
    "temp = list(api.search_submissions(after=int(dt.datetime(2020, 9, 23).timestamp()), #시작 날짜(변경 필요)\n",
    "                            subreddit='schizophrenia', #subreddit 종류(변경 필요)\n",
    "                            filter=['url','author', 'title', 'subreddit', 'selftext', 'created_by']))\n",
    "print(time.time()-start)"
   ]
  },
  {
   "cell_type": "code",
   "execution_count": 24,
   "metadata": {},
   "outputs": [],
   "source": [
    "a_list = [] # author\n",
    "t_list = [] # title\n",
    "s_list = [] # selftext(text context)\n",
    "times = [] \n",
    "\n",
    "for i in range(len(temp)):\n",
    "    a_list.append(temp[i][0])\n",
    "    times.append(dt.datetime.fromtimestamp(temp[i][1]).strftime('%Y-%m-%d %H:%M:%S'))\n",
    "    t_list.append(temp[i][4])\n",
    "    s_list.append(temp[i][2])\n",
 
    "    # subreddit: temp[i][3]"
   ]
  },
  {
   "cell_type": "code",
   "execution_count": 27,
   "metadata": {},
   "outputs": [
    {
     "name": "stdout",
     "output_type": "stream",
     "text": [
      "0.23333333333333334\n"
     ]
    }
   ],
   "source": [
    "# rate of non-text contents\n",
    "count = 0\n",
    "for i in range(len(temp)):\n",
    "    if len(s_list[i])== 0 and len(t_list[i])!= 0:\n",
    "        count +=1\n",
    "print(count/len(schizo_table))"
   ]
  },
  {
   "cell_type": "markdown",
   "metadata": {},
   "source": [
    "### 1. 해당 기간 내에 subreddit 에 업로드 된 게시글 모두"
   ]
  },
  {
   "cell_type": "code",
   "execution_count": 26,
   "metadata": {},
   "outputs": [],
   "source": [
    "schizo_table = pd.DataFrame({'subreddit': 'schizophrenia', \n",
    "                             'author': a_list, \n",
    "                              'title': t_list, \n",
    "                              'text_context': s_list \n",
                                    'date': times
    "                       })"
   ]
  },
  {
   "cell_type": "code",
   "execution_count": null,
   "metadata": {},
   "outputs": [],
   "source": [
    "schizo_table.to_csv('schizo_origin.csv', index = False)"
   ]
  },
  {
   "cell_type": "markdown",
   "metadata": {},
   "source": [
    "### 2. 글 또는 제목에 'diagnos'가 언급된 게시글 모으기"
   ]
  },
  {
   "cell_type": "code",
   "execution_count": null,
   "metadata": {},
   "outputs": [],
   "source": [
    "a_list = [] # author\n",
    "t_list = [] # title\n",
    "s_list = [] # selftext(text context)\n",
    "times = [] \n",
    "for i in range(temp):\n",
    "    if 'diagnos' in temp[i][4] or 'diagnos' in temp[i][2]:\n",
    "        if 'schizophrenia' in temp[i][4] or 'schizophrenia' in temp[i][2]:\n",
    "            a_list.append(temp[i][0])\n",
    "            times.append(dt.datetime.fromtimestamp(temp[i][1]).strftime('%Y-%m-%d %H:%M:%S'))\n",
    "            t_list.append(temp[i][4])\n",
    "            s_list.append(temp[i][2])"
   ]
  },
  {
   "cell_type": "code",
   "execution_count": null,
   "metadata": {},
   "outputs": [],
   "source": [
    "schizo_dia_table = pd.DataFrame({'subreddit': 'schizophrenia', \n",
    "                             'author': a_list, \n",
    "                              'title': t_list, \n",
    "                              'text_context': s_list \n",
                                        'date': times
    "               })"
   ]
  },
  {
   "cell_type": "code",
   "execution_count": null,
   "metadata": {},
   "outputs": [],
   "source": [
    "schizo_dia_table.to_csv('schizo_with_diagnose.csv', index = False)"
   ]
  },
  {
   "cell_type": "markdown",
   "metadata": {},
   "source": [
    "### 3) 특정 게시자가 해당 정신질환 서브레딧에 작성한 글 모으기"
   ]
  },
  {
   "cell_type": "code",
   "execution_count": null,
   "metadata": {},
   "outputs": [],
   "source": []
  }
 ],
 "metadata": {
  "kernelspec": {
   "display_name": "Python 3",
   "language": "python",
   "name": "python3"
  },
  "language_info": {
   "codemirror_mode": {
    "name": "ipython",
    "version": 3
   },
   "file_extension": ".py",
   "mimetype": "text/x-python",
   "name": "python",
   "nbconvert_exporter": "python",
   "pygments_lexer": "ipython3",
   "version": "3.7.6"
  }
 },
 "nbformat": 4,
 "nbformat_minor": 4
}
