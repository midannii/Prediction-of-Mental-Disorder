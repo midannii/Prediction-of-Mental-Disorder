{
 "cells": [
  {
   "cell_type": "code",
   "execution_count": 10,
   "metadata": {
    "scrolled": true
   },
   "outputs": [
    {
     "name": "stdout",
     "output_type": "stream",
     "text": [
      "adhd:  256065\n",
      "anxiety:  298853\n",
      "bipolar:  162986\n",
      "depression:  720435\n",
      "schizo:  60009\n",
      "health:  425346\n"
     ]
    }
   ],
   "source": [
    "import pandas as pd\n",
    "\n",
    "adhd = pd.read_csv(\"D:\\\\2020-2\\\\소프트웨어융합캡스톤디자인\\\\jupyter\\\\data\\\\adhd\\\\adhd_origin.csv\")\n",
    "print(\"adhd: \", len(adhd))\n",
    "anxiety = pd.read_csv(\"D:\\\\2020-2\\\\소프트웨어융합캡스톤디자인\\\\jupyter\\\\data\\\\anxiety\\\\anxiety_origin.csv\", names=[\"subreddit\", \"title\", \"author\", \"text_context\", \"time\", \"sub_id\"])\n",
    "print(\"anxiety: \", len(anxiety))\n",
    "bipolar = pd.read_csv(\"D:\\\\2020-2\\\\소프트웨어융합캡스톤디자인\\\\jupyter\\\\data\\\\bipolar\\\\bipolar_origin.csv\")\n",
    "print(\"bipolar: \", len(bipolar))\n",
    "depression = pd.read_csv(\"D:\\\\2020-2\\\\소프트웨어융합캡스톤디자인\\\\jupyter\\\\data\\\\depression\\\\depression_origin.csv\", names=[\"subreddit\", \"title\", \"author\", \"text_context\", \"time\", \"sub_id\"])\n",
    "print(\"depression: \", len(depression))\n",
    "schizo = pd.read_csv(\"D:\\\\2020-2\\\\소프트웨어융합캡스톤디자인\\\\jupyter\\\\data\\\\schizo\\\\schizo_origin.csv\")\n",
    "print(\"schizo: \", len(schizo))\n",
    "non_mh = pd.read_csv(\"D:\\\\2020-2\\\\소프트웨어융합캡스톤디자인\\\\jupyter\\\\data\\\\health\\\\non_mental_health.csv\")\n",
    "print(\"health: \", len(non_mh))"
   ]
  },
  {
   "cell_type": "markdown",
   "metadata": {},
   "source": [
    "## 데이터 전처리"
   ]
  },
  {
   "cell_type": "markdown",
   "metadata": {},
   "source": [
    "null값 제거"
   ]
  },
  {
   "cell_type": "code",
   "execution_count": 11,
   "metadata": {},
   "outputs": [],
   "source": [
    "adhd = adhd.drop(adhd[adhd['author'] == '[deleted]'].index)\n",
    "adhd = adhd.drop(adhd[adhd['text_context'] == '[deleted]'].index)\n",
    "adhd = adhd.drop(adhd[adhd['text_context'] == '[removed]'].index)\n",
    "adhd = adhd.drop(adhd[adhd['text_context'].isnull()].index)\n",
    "\n",
    "anxiety = anxiety.drop(anxiety[anxiety['author'] == '[deleted]'].index)\n",
    "anxiety = anxiety.drop(anxiety[anxiety['text_context'] == '[deleted]'].index)\n",
    "anxiety = anxiety.drop(anxiety[anxiety['text_context'] == '[removed]'].index)\n",
    "anxiety = anxiety.drop(anxiety[anxiety['text_context'].isnull()].index)\n",
    "\n",
    "bipolar = bipolar.drop(bipolar[bipolar['author'] == '[deleted]'].index)\n",
    "bipolar = bipolar.drop(bipolar[bipolar['text_context'] == '[deleted]'].index)\n",
    "bipolar = bipolar.drop(bipolar[bipolar['text_context'] == '[removed]'].index)\n",
    "bipolar = bipolar.drop(bipolar[bipolar['text_context'].isnull()].index)\n",
    "\n",
    "depression = depression.drop(depression[depression['author'] == '[deleted]'].index)\n",
    "depression = depression.drop(depression[depression['text_context'] == '[deleted]'].index)\n",
    "depression = depression.drop(depression[depression['text_context'] == '[removed]'].index)\n",
    "depression = depression.drop(depression[depression['text_context'].isnull()].index)\n",
    "\n",
    "schizo = schizo.drop(schizo[schizo['author'] == '[deleted]'].index)\n",
    "schizo = schizo.drop(schizo[schizo['text_context'] == '[deleted]'].index)\n",
    "schizo = schizo.drop(schizo[schizo['text_context'] == '[removed]'].index)\n",
    "schizo = schizo.drop(schizo[schizo['text_context'].isnull()].index)\n",
    "\n",
    "non_mh = non_mh.drop(non_mh[non_mh['author'] == '[deleted]'].index)\n",
    "non_mh = non_mh.drop(non_mh[non_mh['text_context'] == '[deleted]'].index)\n",
    "non_mh = non_mh.drop(non_mh[non_mh['text_context'] == '[removed]'].index)\n",
    "non_mh = non_mh.drop(non_mh[non_mh['text_context'].isnull()].index)"
   ]
  },
  {
   "cell_type": "markdown",
   "metadata": {},
   "source": [
    "사용자가 작성한 글의 갯수가 10개 이상인 사용자들을 list-up한다.    \n",
    "이후 해당 사용자만 남긴다."
   ]
  },
  {
   "cell_type": "code",
   "execution_count": 12,
   "metadata": {},
   "outputs": [],
   "source": [
    "adhd_grouped = adhd.groupby(by=['author'], as_index=False).count()\n",
    "anxiety_grouped = anxiety.groupby(by=['author'], as_index=False).count()\n",
    "bipolar_grouped = bipolar.groupby(by=['author'], as_index=False).count()\n",
    "depression_grouped = depression.groupby(by=['author'], as_index=False).count()\n",
    "schizo_grouped = schizo.groupby(by=['author'], as_index=False).count()\n",
    "\n",
    "\n",
    "adhd_ten = adhd_grouped[adhd_grouped['text_context'] > 9]\n",
    "anxiety_ten = anxiety_grouped[anxiety_grouped['text_context'] > 9]\n",
    "bipolar_ten = bipolar_grouped[bipolar_grouped['text_context'] > 9]\n",
    "depression_ten = depression_grouped[depression_grouped['text_context'] > 9]\n",
    "schizo_ten = schizo_grouped[schizo_grouped['text_context'] > 9]"
   ]
  },
  {
   "cell_type": "code",
   "execution_count": 13,
   "metadata": {},
   "outputs": [],
   "source": [
    "adhd = pd.merge(adhd, adhd_ten['author'], how='inner', on='author')\n",
    "anxiety = pd.merge(anxiety, anxiety_ten['author'], how='inner', on='author')\n",
    "bipolar = pd.merge(bipolar, bipolar_ten['author'], how='inner', on='author')\n",
    "depression = pd.merge(depression, depression_ten['author'], how='inner', on='author')\n",
    "schizo = pd.merge(schizo, schizo_ten['author'], how='inner', on='author')"
   ]
  },
  {
   "cell_type": "markdown",
   "metadata": {},
   "source": [
    "title 이나 text_context가 Nan인 경우 \"\"으로 치환한다."
   ]
  },
  {
   "cell_type": "code",
   "execution_count": 14,
   "metadata": {},
   "outputs": [],
   "source": [
    "adhd= adhd.fillna(\"\")\n",
    "anxiety= anxiety.fillna(\"\") \n",
    "bipolar= bipolar.fillna(\"\") \n",
    "depression= depression.fillna(\"\") \n",
    "schizo= schizo.fillna(\"\") \n",
    "non_mh= non_mh.fillna(\"\") "
   ]
  },
  {
   "cell_type": "markdown",
   "metadata": {},
   "source": [
    "content = [title + text_content]"
   ]
  },
  {
   "cell_type": "code",
   "execution_count": 15,
   "metadata": {
    "scrolled": true
   },
   "outputs": [],
   "source": [
    "adhd['content'] = adhd[['title', 'text_context']].apply(' '.join, axis=1)\n",
    "anxiety['content'] = anxiety[['title', 'text_context']].apply(' '.join, axis=1)\n",
    "bipolar['content'] = bipolar[['title', 'text_context']].apply(' '.join, axis=1)\n",
    "depression['content'] = depression[['title', 'text_context']].apply(' '.join, axis=1)\n",
    "schizo['content'] = schizo[['title', 'text_context']].apply(' '.join, axis=1)\n",
    "non_mh['content'] = non_mh[['title', 'text_context']].apply(' '.join, axis=1)"
   ]
  },
  {
   "cell_type": "code",
   "execution_count": 16,
   "metadata": {},
   "outputs": [],
   "source": [
    "adhd.to_csv(\"D:\\\\2020-2\\\\소프트웨어융합캡스톤디자인\\\\new_jupyter\\\\data2\\\\adhd_origin.csv\", index= True)\n",
    "anxiety.to_csv(\"D:\\\\2020-2\\\\소프트웨어융합캡스톤디자인\\\\new_jupyter\\\\data2\\\\anxiety_origin.csv\", index= True)\n",
    "bipolar.to_csv(\"D:\\\\2020-2\\\\소프트웨어융합캡스톤디자인\\\\new_jupyter\\\\data2\\\\bipolar_origin.csv\", index= True)\n",
    "depression.to_csv(\"D:\\\\2020-2\\\\소프트웨어융합캡스톤디자인\\\\new_jupyter\\\\data2\\\\depression_origin.csv\", index= True)\n",
    "schizo.to_csv(\"D:\\\\2020-2\\\\소프트웨어융합캡스톤디자인\\\\new_jupyter\\\\data2\\\\schizo_origin.csv\", index= True)\n",
    "non_mh.to_csv(\"D:\\\\2020-2\\\\소프트웨어융합캡스톤디자인\\\\new_jupyter\\\\data2\\\\non_mh_origin.csv\", index= True)"
   ]
  },
  {
   "cell_type": "code",
   "execution_count": 67,
   "metadata": {},
   "outputs": [
    {
     "name": "stdout",
     "output_type": "stream",
     "text": [
      "adhd:  48147\n",
      "anxiety:  40158\n",
      "bipolar:  65460\n",
      "depression:  157213\n",
      "schizo:  20614\n",
      "health:  425341\n"
     ]
    }
   ],
   "source": [
    "print(\"adhd: \", len(adhd))\n",
    "print(\"anxiety: \", len(anxiety))\n",
    "print(\"bipolar: \", len(bipolar))\n",
    "print(\"depression: \", len(depression))\n",
    "print(\"schizo: \", len(schizo))\n",
    "print(\"health: \", len(non_mh))"
   ]
  }
 ],
 "metadata": {
  "kernelspec": {
   "display_name": "Python 3",
   "language": "python",
   "name": "python3"
  },
  "language_info": {
   "codemirror_mode": {
    "name": "ipython",
    "version": 3
   },
   "file_extension": ".py",
   "mimetype": "text/x-python",
   "name": "python",
   "nbconvert_exporter": "python",
   "pygments_lexer": "ipython3",
   "version": "3.6.5"
  }
 },
 "nbformat": 4,
 "nbformat_minor": 4
}
